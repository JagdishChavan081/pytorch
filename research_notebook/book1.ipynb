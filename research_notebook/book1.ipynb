{
 "cells": [
  {
   "cell_type": "code",
   "execution_count": 2,
   "metadata": {},
   "outputs": [
    {
     "name": "stdout",
     "output_type": "stream",
     "text": [
      "1.25.1\n",
      "2.0.3\n",
      "3.7.2\n",
      "2.0.1+cpu\n"
     ]
    }
   ],
   "source": [
    "#confirm installation and required version\n",
    "import numpy\n",
    "import pandas\n",
    "import matplotlib\n",
    "import torch\n",
    "\n",
    "print(numpy.__version__)\n",
    "print(pandas.__version__)\n",
    "print(matplotlib.__version__)\n",
    "print(torch.__version__)"
   ]
  },
  {
   "cell_type": "markdown",
   "metadata": {},
   "source": [
    "### Data type in Pytorch "
   ]
  },
  {
   "cell_type": "code",
   "execution_count": 3,
   "metadata": {},
   "outputs": [
    {
     "name": "stdout",
     "output_type": "stream",
     "text": [
      "tensor(7)\n",
      "0\n",
      "torch.int64\n"
     ]
    }
   ],
   "source": [
    "#create a scaler\n",
    "scl = torch.tensor(7)\n",
    "print(scl)\n",
    "print(scl.ndim)\n",
    "print(scl.dtype)"
   ]
  },
  {
   "cell_type": "code",
   "execution_count": 4,
   "metadata": {},
   "outputs": [
    {
     "name": "stdout",
     "output_type": "stream",
     "text": [
      "7\n",
      "<class 'int'>\n"
     ]
    }
   ],
   "source": [
    "#converting tensor to int\n",
    "var_int=scl.item()\n",
    "print(var_int)\n",
    "print(type(var_int))"
   ]
  },
  {
   "cell_type": "code",
   "execution_count": 5,
   "metadata": {},
   "outputs": [
    {
     "name": "stdout",
     "output_type": "stream",
     "text": [
      "tensor([7, 7])\n",
      "torch.int64\n",
      "torch.Size([2])\n",
      "1\n"
     ]
    }
   ],
   "source": [
    "#creating vector\n",
    "vec = torch.tensor([7,7])\n",
    "print(vec)\n",
    "print(vec.dtype)\n",
    "print(vec.shape)\n",
    "print(vec.ndim)"
   ]
  },
  {
   "cell_type": "code",
   "execution_count": 6,
   "metadata": {},
   "outputs": [
    {
     "name": "stdout",
     "output_type": "stream",
     "text": [
      "tensor([[1, 2],\n",
      "        [3, 4]])\n",
      "torch.Size([2, 2])\n",
      "torch.int64\n",
      "2\n"
     ]
    }
   ],
   "source": [
    "# create a matrix\n",
    "mat = torch.tensor([[1,2],[3,4]])\n",
    "print(mat)\n",
    "print(mat.shape)\n",
    "print(mat.dtype)\n",
    "print(len(mat))"
   ]
  },
  {
   "cell_type": "code",
   "execution_count": 8,
   "metadata": {},
   "outputs": [
    {
     "name": "stdout",
     "output_type": "stream",
     "text": [
      "tensor([[[1, 2, 3],\n",
      "         [4, 5, 6],\n",
      "         [7, 8, 9]]])\n",
      "torch.Size([1, 3, 3])\n",
      "torch.int64\n",
      "1\n",
      "3\n"
     ]
    }
   ],
   "source": [
    "#tensor\n",
    "ten = torch.tensor([[[1,2,3],[4,5,6],[7,8,9]]])\n",
    "print(ten)\n",
    "print(ten.shape)\n",
    "print(ten.dtype)\n",
    "print(len(ten))\n",
    "print(ten.ndim)"
   ]
  },
  {
   "cell_type": "markdown",
   "metadata": {},
   "source": [
    "### Random Tensors"
   ]
  },
  {
   "cell_type": "code",
   "execution_count": 11,
   "metadata": {},
   "outputs": [
    {
     "name": "stdout",
     "output_type": "stream",
     "text": [
      "tensor([[0.3369, 0.7835, 0.5110, 0.5511],\n",
      "        [0.2347, 0.8254, 0.2918, 0.1796],\n",
      "        [0.6029, 0.0319, 0.2334, 0.6929]])\n",
      "2\n",
      "3\n",
      "<class 'torch.Tensor'>\n"
     ]
    }
   ],
   "source": [
    "ran = torch.rand(3,4)\n",
    "print(ran)\n",
    "print(ran.ndim)\n",
    "print(len(ran))\n",
    "print(type(ran))"
   ]
  },
  {
   "cell_type": "code",
   "execution_count": 12,
   "metadata": {},
   "outputs": [
    {
     "name": "stdout",
     "output_type": "stream",
     "text": [
      "torch.Size([224, 224, 3])\n",
      "3\n"
     ]
    }
   ],
   "source": [
    "#random tensor of image size\n",
    "random_image_size_tensor=torch.rand(size=(224,224,3))\n",
    "\n",
    "print(random_image_size_tensor.shape)\n",
    "print(random_image_size_tensor.ndim)"
   ]
  },
  {
   "cell_type": "code",
   "execution_count": 13,
   "metadata": {},
   "outputs": [
    {
     "name": "stdout",
     "output_type": "stream",
     "text": [
      "tensor([[0., 0., 0., 0.],\n",
      "        [0., 0., 0., 0.],\n",
      "        [0., 0., 0., 0.]])\n",
      "tensor([[1., 1., 1.],\n",
      "        [1., 1., 1.],\n",
      "        [1., 1., 1.],\n",
      "        [1., 1., 1.]])\n"
     ]
    }
   ],
   "source": [
    "#creating tensor with zero\n",
    "zero = torch.zeros(size=(3,4))\n",
    "print(zero)\n",
    "\n",
    "#creating tensors with ones\n",
    "ones = torch.ones(size=(4,3))\n",
    "print(ones)"
   ]
  },
  {
   "cell_type": "code",
   "execution_count": 19,
   "metadata": {},
   "outputs": [
    {
     "name": "stdout",
     "output_type": "stream",
     "text": [
      "tensor([0, 1, 2, 3, 4, 5, 6, 7, 8, 9])\n"
     ]
    }
   ],
   "source": [
    "#creating a tensor with range\n",
    "ran = torch.arange(0,10,dtype=int)\n",
    "print(ran)"
   ]
  },
  {
   "cell_type": "code",
   "execution_count": 26,
   "metadata": {},
   "outputs": [
    {
     "name": "stdout",
     "output_type": "stream",
     "text": [
      "['Rohit', 50000, '1234']\n",
      "('Rohit', 50000, '1234')\n",
      "<class 'tuple'>\n"
     ]
    }
   ],
   "source": [
    "#tuple \n",
    "li = [\"Rohit\",50000, '1234']\n",
    "print(li)\n",
    "\n",
    "tu = (\"Rohit\",50000,'1234')\n",
    "print(tu)\n",
    "\n",
    "\n",
    "\n",
    "\n",
    "tu1 = (1,)\n",
    "print(type(tu1))\n"
   ]
  },
  {
   "cell_type": "code",
   "execution_count": 27,
   "metadata": {},
   "outputs": [],
   "source": [
    "#sets \n",
    "se={1,2,3}\n",
    "se1={3}\n"
   ]
  },
  {
   "cell_type": "code",
   "execution_count": null,
   "metadata": {},
   "outputs": [],
   "source": []
  }
 ],
 "metadata": {
  "kernelspec": {
   "display_name": "Python 3",
   "language": "python",
   "name": "python3"
  },
  "language_info": {
   "codemirror_mode": {
    "name": "ipython",
    "version": 3
   },
   "file_extension": ".py",
   "mimetype": "text/x-python",
   "name": "python",
   "nbconvert_exporter": "python",
   "pygments_lexer": "ipython3",
   "version": "3.10.12"
  },
  "orig_nbformat": 4
 },
 "nbformat": 4,
 "nbformat_minor": 2
}
